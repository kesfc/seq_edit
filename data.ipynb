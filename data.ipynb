{
 "cells": [
  {
   "cell_type": "markdown",
   "metadata": {},
   "source": [
    "# Generate triplets and questions"
   ]
  },
  {
   "cell_type": "code",
   "execution_count": 1,
   "metadata": {},
   "outputs": [
    {
     "name": "stderr",
     "output_type": "stream",
     "text": [
      "/data1/baixiang/env/anaconda3/envs/edit/lib/python3.9/site-packages/transformers/utils/hub.py:127: FutureWarning: Using `TRANSFORMERS_CACHE` is deprecated and will be removed in v5 of Transformers. Use `HF_HOME` instead.\n",
      "  warnings.warn(\n"
     ]
    },
    {
     "name": "stdout",
     "output_type": "stream",
     "text": [
      "2024-11-17 10:37:56,437 SequenceTagger predicts: Dictionary with 20 tags: <unk>, O, S-ORG, S-MISC, B-PER, E-PER, S-LOC, B-ORG, E-ORG, I-PER, S-PER, B-MISC, I-MISC, E-MISC, I-ORG, B-LOC, E-LOC, I-LOC, <START>, <STOP>\n"
     ]
    }
   ],
   "source": [
    "from process_data import *"
   ]
  },
  {
   "cell_type": "markdown",
   "metadata": {},
   "source": [
    "## Topic selection"
   ]
  },
  {
   "cell_type": "code",
   "execution_count": 2,
   "metadata": {},
   "outputs": [],
   "source": [
    "def get_topic_size(topic_name):\n",
    "    topic = json.loads(f'{{\"instance of\": \"{topic_name}\"}}')\n",
    "    query_part1 = \"SELECT ?subjectLabel ?relation ?objectLabel WHERE {\"\n",
    "    query_part2 = \"\"\n",
    "    relation_object_pairs = convert_topic_to_symbol(topic)\n",
    "    for pair in relation_object_pairs:\n",
    "        query_part2 += f\"\\n?subject wdt:{pair[0]} wd:{pair[1]} .\"\n",
    "    query_part3 = \"\"\"\n",
    "        ?subject  ?relation  ?object.\n",
    "        ?subject wikibase:identifiers ?subject_identifierCount.\n",
    "        ?object wikibase:identifiers ?object_identifierCount.\n",
    "        \"\"\"\n",
    "    query_part5 = \"\"\" \n",
    "        FILTER (?subject_identifierCount >= 8 && ?object_identifierCount >= 5) .  \n",
    "        SERVICE wikibase:label { bd:serviceParam wikibase:language \"[AUTO_LANGUAGE],en\". }\n",
    "    }\n",
    "    LIMIT 8000\n",
    "    \"\"\"\n",
    "    query = query_part1 + query_part2 + query_part3 + query_part5\n",
    "    sparql.setQuery(query)\n",
    "    sparql.setReturnFormat(JSON)\n",
    "    results = sparql.query().convert()\n",
    "    count = len(results['results']['bindings'])\n",
    "    print(f\"Topic {topic} size: {count}\")\n",
    "    return count\n",
    "\n",
    "for t in []:\n",
    "    get_topic_size(t)"
   ]
  },
  {
   "cell_type": "markdown",
   "metadata": {},
   "source": [
    "f'SELECT ?subjectLabel ?relation ?objectLabel WHERE {\n",
    "    ?subject wdt:{topic_wdt} wd:{topic_wd} .\n",
    "    ?subject  ?relation  ?object.\n",
    "    ?subject wikibase:identifiers ?subject_identifierCount.\n",
    "    ?object wikibase:identifiers ?object_identifierCount.\n",
    "    FILTER (?subject_identifierCount >= 8 && ?object_identifierCount >= 5) .  \n",
    "    SERVICE wikibase:label { bd:serviceParam wikibase:language \"[AUTO_LANGUAGE],en\". }\n",
    "}\n",
    "LIMIT 8000'"
   ]
  },
  {
   "cell_type": "code",
   "execution_count": null,
   "metadata": {},
   "outputs": [],
   "source": [
    "# len = len(results['results']['bindings'])\n",
    "# len = 0: [\"invention\", \"animal species\", \"mineral\", \"Olympic Games\", \"train\", \"mathematics\", \"neuroscience\", \"robotics\", \n",
    "#           \"internet\", \"mobile phone\", \"3D printing\", \"bird\", \"academy awards\", \"movies\", \"movie\", \"grammy award\", 'netflix series', \n",
    "#           'beverage', \"climate\", \"astronomy\",]\n",
    "# len < 100: [\"climate\", \"physics\", \"biology\", \"insect\", \"fish\", \"computer hardware\", \"plant\", \"sports team\", \"ecosystem\", \"reef\", \"wetland\", \"grassland\",\n",
    "#             'vehicle', 'airplane', 'bicycle', \"animal\", \"chemical compound\", \"astronomical object\", 'fruit', 'vegetable', 'cuisine', \"planet\", \"physics\", \n",
    "#             \"chemistry\", \"mathematics\", \"biology\", \"geology\", \"ecology\", \"genetics\", \"space mission\", \"spacecraft\", \"particle\", \"species\", \"ecosystem\", \n",
    "#             \"hypothesis\",]\n",
    "# Error code 500: [\"video game\", \"river\", \"protein\", 'ship', \"film\", \"human\", \"film\", \"human\", \"mountain\",\"scientific journal\", \"gene\", \"album\",\n",
    "#                  \"star\", 'art_literary',  \"painting\", 'art_painting']"
   ]
  },
  {
   "cell_type": "markdown",
   "metadata": {},
   "source": [
    "## Triplet Generation"
   ]
  },
  {
   "cell_type": "code",
   "execution_count": 3,
   "metadata": {},
   "outputs": [],
   "source": [
    "def get_triplets(topic_name):\n",
    "    with open(f'../data/topic/{topic_name}.json', 'r', encoding='utf-8') as topics_file:\n",
    "        topics = topics_file.readlines()\n",
    "    data = []\n",
    "    # topic_name = 'country'\n",
    "    # for topic in [f'{{\"instance of\": \"{topic_name}\"}}\\n']:\n",
    "    for topic in topics:\n",
    "        if topic:\n",
    "            topic = json.loads(topic)\n",
    "            print(topic)\n",
    "            query_part1 = \"SELECT ?subjectLabel ?relation ?objectLabel WHERE {\"\n",
    "            query_part2 = \"\"\n",
    "            relation_object_pairs = convert_topic_to_symbol(topic)\n",
    "            for pair in relation_object_pairs:\n",
    "                query_part2 += f\"\\n?subject wdt:{pair[0]} wd:{pair[1]} .\"\n",
    "\n",
    "            query_part3 = \"\"\"\n",
    "                ?subject  ?relation  ?object.\n",
    "                ?subject wikibase:identifiers ?subject_identifierCount.\n",
    "                ?object wikibase:identifiers ?object_identifierCount.\n",
    "                \"\"\"\n",
    "            query_part5 = \"\"\" \n",
    "                FILTER (?subject_identifierCount >= 8 && ?object_identifierCount >= 5) .  \n",
    "                SERVICE wikibase:label { bd:serviceParam wikibase:language \"[AUTO_LANGUAGE],en\". }\n",
    "            }\n",
    "            LIMIT 5000\n",
    "            \"\"\"\n",
    "            query = query_part1 + query_part2 + query_part3 + query_part5\n",
    "            sparql.setQuery(query)\n",
    "            sparql.setReturnFormat(JSON)\n",
    "            results = sparql.query().convert()\n",
    "            time.sleep(1)\n",
    "            # print(f\"results: {results}\")\n",
    "            if \"results\" in results:\n",
    "                # Create a list to store the data\n",
    "                with ThreadPoolExecutor() as executor:\n",
    "                    futures = [executor.submit(process_result, result) for result in results[\"results\"][\"bindings\"]]\n",
    "                    # Use tqdm to show the progress bar while waiting for all tasks to complete\n",
    "                    for future in tqdm(concurrent.futures.as_completed(futures), total=len(futures)):\n",
    "                        result_data = future.result()\n",
    "                        if result_data:\n",
    "                            data.append(result_data)\n",
    "\n",
    "    fact_triplets = pd.DataFrame(data)  # data/triplet/raw/ store raw triplets before removing duplicate (subject, relation) pairs\n",
    "    fact_triplets.to_csv(f'../data/triplet/raw/{topic_name}.csv', index=False)"
   ]
  },
  {
   "cell_type": "markdown",
   "metadata": {},
   "source": [
    "To avoid question with multiple answers, check and remove (node, relation) with duplicates as shown below:\\\n",
    "{\"subject\": \"Thailand\", \"relation\": \"diplomatic relation\", \"object\": \"Russia\"}\\\n",
    "{\"subject\": \"Thailand\", \"relation\": \"diplomatic relation\", \"object\": \"Brunei\"}"
   ]
  },
  {
   "cell_type": "code",
   "execution_count": 32,
   "metadata": {},
   "outputs": [
    {
     "name": "stdout",
     "output_type": "stream",
     "text": [
      "art_sculpture.csv              fact_triplets.shape: (1088, 3), fact_triplets_new.shape: (554, 3) Number of rows with subject==object: 4\n",
      "business_brand.csv             fact_triplets.shape: (3577, 3), fact_triplets_new.shape: (1430, 3) Number of rows with subject==object: 13\n",
      "business_corporation.csv       fact_triplets.shape: (851, 3), fact_triplets_new.shape: (340, 3) Number of rows with subject==object: 1\n",
      "business_industry.csv          fact_triplets.shape: (1508, 3), fact_triplets_new.shape: (605, 3) Number of rows with subject==object: 8\n",
      "entertainment_anime.csv        fact_triplets.shape: (627, 3), fact_triplets_new.shape: (360, 3) Number of rows with subject==object: 1\n",
      "entertainment_music_genre.csv  fact_triplets.shape: (3007, 3), fact_triplets_new.shape: (1652, 3) Number of rows with subject==object: 19\n",
      "entertainment_song.csv         fact_triplets.shape: (5227, 3), fact_triplets_new.shape: (2654, 3) Number of rows with subject==object: 25\n",
      "event_film.csv                 fact_triplets.shape: (470, 3), fact_triplets_new.shape: (338, 3) Number of rows with subject==object: 0\n",
      "event_history.csv              fact_triplets.shape: (1607, 3), fact_triplets_new.shape: (440, 3) Number of rows with subject==object: 0\n",
      "event_sport.csv                fact_triplets.shape: (547, 3), fact_triplets_new.shape: (202, 3) Number of rows with subject==object: 0\n",
      "geography_forest.csv           fact_triplets.shape: (756, 3), fact_triplets_new.shape: (524, 3) Number of rows with subject==object: 1\n",
      "geography_glacier.csv          fact_triplets.shape: (442, 3), fact_triplets_new.shape: (335, 3) Number of rows with subject==object: 0\n",
      "geography_volcano.csv          fact_triplets.shape: (1314, 3), fact_triplets_new.shape: (772, 3) Number of rows with subject==object: 6\n",
      "health_disease.csv             fact_triplets.shape: (4819, 3), fact_triplets_new.shape: (833, 3) Number of rows with subject==object: 3\n",
      "health_medication.csv          fact_triplets.shape: (1508, 3), fact_triplets_new.shape: (240, 3) Number of rows with subject==object: 4\n",
      "health_symptom.csv             fact_triplets.shape: (710, 3), fact_triplets_new.shape: (141, 3) Number of rows with subject==object: 0\n",
      "human_athlete.csv              fact_triplets.shape: (4999, 3), fact_triplets_new.shape: (2402, 3) Number of rows with subject==object: 10\n",
      "human_entrepreneur.csv         fact_triplets.shape: (4999, 3), fact_triplets_new.shape: (2598, 3) Number of rows with subject==object: 6\n",
      "human_scientist.csv            fact_triplets.shape: (4999, 3), fact_triplets_new.shape: (1794, 3) Number of rows with subject==object: 6\n",
      "places_city.csv                fact_triplets.shape: (44957, 3), fact_triplets_new.shape: (18995, 3) Number of rows with subject==object: 482\n",
      "places_country.csv             fact_triplets.shape: (32742, 3), fact_triplets_new.shape: (2937, 3) Number of rows with subject==object: 176\n",
      "places_landmark.csv            fact_triplets.shape: (7531, 3), fact_triplets_new.shape: (3202, 3) Number of rows with subject==object: 18\n",
      "technology_database.csv        fact_triplets.shape: (515, 3), fact_triplets_new.shape: (219, 3) Number of rows with subject==object: 0\n",
      "technology_programming_language.csv fact_triplets.shape: (1570, 3), fact_triplets_new.shape: (435, 3) Number of rows with subject==object: 12\n",
      "technology_software.csv        fact_triplets.shape: (3095, 3), fact_triplets_new.shape: (828, 3) Number of rows with subject==object: 6\n"
     ]
    }
   ],
   "source": [
    "directory = '../data/triplet/raw'\n",
    "for filename in sorted(os.listdir(directory)):\n",
    "    if filename.endswith('.csv'):\n",
    "        fact_triplets = pd.read_csv(f'{directory}/{filename}')\n",
    "        # print(fact_triplets.shape)\n",
    "        fact_triplets.dropna(inplace=True)\n",
    "        condition1 = fact_triplets.apply(lambda row: any(val.startswith('Q') and val[1:].isdigit() for val in row.values), axis=1)\n",
    "        condition2 = fact_triplets.apply(lambda row: any(val.startswith('http') for val in row.values), axis=1)\n",
    "        fact_triplets = fact_triplets[~(condition1 | condition2)]  \n",
    "\n",
    "        fact_triplets_new = fact_triplets.drop_duplicates(subset=['subjectLabel', 'relation'], keep=False)\n",
    "        print(f\"{filename:<30} fact_triplets.shape: {fact_triplets.shape}, fact_triplets_new.shape: {fact_triplets_new.shape}\", end=' ')\n",
    "        print(f\"Number of rows with subject==object: {fact_triplets_new[fact_triplets_new.subjectLabel == fact_triplets_new.objectLabel].shape[0]}\")\n",
    "        fact_triplets_new = fact_triplets_new[fact_triplets_new.subjectLabel != fact_triplets_new.objectLabel]\n",
    "        fact_triplets_new.to_csv(f'../data/triplet/{filename}', index=False)"
   ]
  },
  {
   "cell_type": "markdown",
   "metadata": {},
   "source": [
    "## Generate Questions from knowledge graph triplets"
   ]
  },
  {
   "cell_type": "code",
   "execution_count": 4,
   "metadata": {},
   "outputs": [
    {
     "name": "stdout",
     "output_type": "stream",
     "text": [
      "model_id: EleutherAI/gpt-j-6b\n"
     ]
    }
   ],
   "source": [
    "import os\n",
    "import pandas as pd\n",
    "from util import model_id_ls, model_id_format_ls\n",
    "model_id_format = 'EleutherAI/gpt-j-6b'#model_id_format_ls[-1]\n",
    "print(f'model_id: {model_id_format}')\n",
    "\n",
    "folder_unfiltered = f\"../data/questions/unfiltered/{model_id_format}\"\n",
    "folder_hallu = f\"../data/questions/hallucination_all/{model_id_format}\"\n",
    "folder_hallu_100 = f\"../data/questions/hallucination/{model_id_format}_100\""
   ]
  },
  {
   "cell_type": "code",
   "execution_count": 3,
   "metadata": {},
   "outputs": [
    {
     "name": "stdout",
     "output_type": "stream",
     "text": [
      "folder_unfiltered: ../data/questions/unfiltered/meta_llama_3.1_8b_instruct\n"
     ]
    },
    {
     "name": "stderr",
     "output_type": "stream",
     "text": [
      "100%|██████████| 202/202 [00:02<00:00, 83.47it/s]\n"
     ]
    },
    {
     "name": "stdout",
     "output_type": "stream",
     "text": [
      "Topic: recurring sporting event, fact_triplets_new.shape: (202, 3), df_question.shape: (115, 5) Number of rows with label != object: 0\n"
     ]
    },
    {
     "name": "stderr",
     "output_type": "stream",
     "text": [
      "100%|██████████| 523/523 [00:06<00:00, 81.26it/s]\n"
     ]
    },
    {
     "name": "stdout",
     "output_type": "stream",
     "text": [
      "Topic: forest, fact_triplets_new.shape: (523, 3), df_question.shape: (261, 5) Number of rows with label != object: 0\n"
     ]
    },
    {
     "name": "stderr",
     "output_type": "stream",
     "text": [
      "100%|██████████| 339/339 [00:03<00:00, 91.66it/s]\n"
     ]
    },
    {
     "name": "stdout",
     "output_type": "stream",
     "text": [
      "Topic: corporation, fact_triplets_new.shape: (339, 3), df_question.shape: (191, 5) Number of rows with label != object: 0\n"
     ]
    },
    {
     "name": "stderr",
     "output_type": "stream",
     "text": [
      "100%|██████████| 18513/18513 [03:10<00:00, 97.00it/s] \n"
     ]
    },
    {
     "name": "stdout",
     "output_type": "stream",
     "text": [
      "Topic: city, fact_triplets_new.shape: (18513, 3), df_question.shape: (6805, 5) Number of rows with label != object: 0\n"
     ]
    },
    {
     "name": "stderr",
     "output_type": "stream",
     "text": [
      "100%|██████████| 1633/1633 [00:17<00:00, 91.08it/s]\n"
     ]
    },
    {
     "name": "stdout",
     "output_type": "stream",
     "text": [
      "Topic: music genre, fact_triplets_new.shape: (1633, 3), df_question.shape: (300, 5) Number of rows with label != object: 0\n"
     ]
    },
    {
     "name": "stderr",
     "output_type": "stream",
     "text": [
      "100%|██████████| 2629/2629 [00:28<00:00, 93.63it/s] \n"
     ]
    },
    {
     "name": "stdout",
     "output_type": "stream",
     "text": [
      "Topic: song, fact_triplets_new.shape: (2629, 3), df_question.shape: (1935, 5) Number of rows with label != object: 0\n"
     ]
    },
    {
     "name": "stderr",
     "output_type": "stream",
     "text": [
      "100%|██████████| 423/423 [00:04<00:00, 89.13it/s]\n"
     ]
    },
    {
     "name": "stdout",
     "output_type": "stream",
     "text": [
      "Topic: programming language, fact_triplets_new.shape: (423, 3), df_question.shape: (311, 5) Number of rows with label != object: 0\n"
     ]
    },
    {
     "name": "stderr",
     "output_type": "stream",
     "text": [
      "100%|██████████| 2392/2392 [00:24<00:00, 98.92it/s] \n"
     ]
    },
    {
     "name": "stdout",
     "output_type": "stream",
     "text": [
      "Topic: human, fact_triplets_new.shape: (2392, 3), df_question.shape: (1313, 5) Number of rows with label != object: 0\n"
     ]
    },
    {
     "name": "stderr",
     "output_type": "stream",
     "text": [
      "100%|██████████| 359/359 [00:03<00:00, 93.60it/s]\n"
     ]
    },
    {
     "name": "stdout",
     "output_type": "stream",
     "text": [
      "Topic: anime, fact_triplets_new.shape: (359, 3), df_question.shape: (299, 5) Number of rows with label != object: 0\n"
     ]
    },
    {
     "name": "stderr",
     "output_type": "stream",
     "text": [
      "100%|██████████| 3184/3184 [00:34<00:00, 91.11it/s] \n"
     ]
    },
    {
     "name": "stdout",
     "output_type": "stream",
     "text": [
      "Topic: tourist attraction, fact_triplets_new.shape: (3184, 3), df_question.shape: (1832, 5) Number of rows with label != object: 0\n"
     ]
    },
    {
     "name": "stderr",
     "output_type": "stream",
     "text": [
      "100%|██████████| 597/597 [00:07<00:00, 84.68it/s]\n"
     ]
    },
    {
     "name": "stdout",
     "output_type": "stream",
     "text": [
      "Topic: industry, fact_triplets_new.shape: (597, 3), df_question.shape: (170, 5) Number of rows with label != object: 0\n"
     ]
    },
    {
     "name": "stderr",
     "output_type": "stream",
     "text": [
      "100%|██████████| 1788/1788 [00:19<00:00, 92.64it/s]\n"
     ]
    },
    {
     "name": "stdout",
     "output_type": "stream",
     "text": [
      "Topic: human, fact_triplets_new.shape: (1788, 3), df_question.shape: (1052, 5) Number of rows with label != object: 0\n"
     ]
    },
    {
     "name": "stderr",
     "output_type": "stream",
     "text": [
      "100%|██████████| 338/338 [00:03<00:00, 100.79it/s]\n"
     ]
    },
    {
     "name": "stdout",
     "output_type": "stream",
     "text": [
      "Topic: film festival, fact_triplets_new.shape: (338, 3), df_question.shape: (166, 5) Number of rows with label != object: 0\n"
     ]
    },
    {
     "name": "stderr",
     "output_type": "stream",
     "text": [
      "100%|██████████| 440/440 [00:04<00:00, 92.24it/s]\n"
     ]
    },
    {
     "name": "stdout",
     "output_type": "stream",
     "text": [
      "Topic: revolution, fact_triplets_new.shape: (440, 3), df_question.shape: (156, 5) Number of rows with label != object: 0\n"
     ]
    },
    {
     "name": "stderr",
     "output_type": "stream",
     "text": [
      "100%|██████████| 550/550 [00:06<00:00, 90.97it/s]\n"
     ]
    },
    {
     "name": "stdout",
     "output_type": "stream",
     "text": [
      "Topic: sculpture, fact_triplets_new.shape: (550, 3), df_question.shape: (377, 5) Number of rows with label != object: 0\n"
     ]
    },
    {
     "name": "stderr",
     "output_type": "stream",
     "text": [
      "100%|██████████| 830/830 [00:09<00:00, 85.58it/s]\n"
     ]
    },
    {
     "name": "stdout",
     "output_type": "stream",
     "text": [
      "Topic: disease, fact_triplets_new.shape: (830, 3), df_question.shape: (505, 5) Number of rows with label != object: 0\n"
     ]
    },
    {
     "name": "stderr",
     "output_type": "stream",
     "text": [
      "100%|██████████| 766/766 [00:08<00:00, 93.41it/s]\n"
     ]
    },
    {
     "name": "stdout",
     "output_type": "stream",
     "text": [
      "Topic: volcano, fact_triplets_new.shape: (766, 3), df_question.shape: (429, 5) Number of rows with label != object: 0\n"
     ]
    },
    {
     "name": "stderr",
     "output_type": "stream",
     "text": [
      "100%|██████████| 141/141 [00:01<00:00, 89.58it/s]\n"
     ]
    },
    {
     "name": "stdout",
     "output_type": "stream",
     "text": [
      "Topic: symptom, fact_triplets_new.shape: (141, 3), df_question.shape: (60, 5) Number of rows with label != object: 0\n"
     ]
    },
    {
     "name": "stderr",
     "output_type": "stream",
     "text": [
      "100%|██████████| 219/219 [00:02<00:00, 88.53it/s]\n"
     ]
    },
    {
     "name": "stdout",
     "output_type": "stream",
     "text": [
      "Topic: database, fact_triplets_new.shape: (219, 3), df_question.shape: (138, 5) Number of rows with label != object: 0\n"
     ]
    },
    {
     "name": "stderr",
     "output_type": "stream",
     "text": [
      "100%|██████████| 1417/1417 [00:14<00:00, 95.22it/s] \n"
     ]
    },
    {
     "name": "stdout",
     "output_type": "stream",
     "text": [
      "Topic: brand, fact_triplets_new.shape: (1417, 3), df_question.shape: (787, 5) Number of rows with label != object: 0\n"
     ]
    },
    {
     "name": "stderr",
     "output_type": "stream",
     "text": [
      "100%|██████████| 4339/4339 [00:48<00:00, 89.30it/s]\n"
     ]
    },
    {
     "name": "stdout",
     "output_type": "stream",
     "text": [
      "Topic: human, fact_triplets_new.shape: (4339, 3), df_question.shape: (2687, 5) Number of rows with label != object: 0\n"
     ]
    },
    {
     "name": "stderr",
     "output_type": "stream",
     "text": [
      "100%|██████████| 822/822 [00:09<00:00, 90.73it/s]\n"
     ]
    },
    {
     "name": "stdout",
     "output_type": "stream",
     "text": [
      "Topic: software, fact_triplets_new.shape: (822, 3), df_question.shape: (633, 5) Number of rows with label != object: 0\n"
     ]
    },
    {
     "name": "stderr",
     "output_type": "stream",
     "text": [
      "100%|██████████| 236/236 [00:02<00:00, 84.86it/s]\n"
     ]
    },
    {
     "name": "stdout",
     "output_type": "stream",
     "text": [
      "Topic: medication, fact_triplets_new.shape: (236, 3), df_question.shape: (53, 5) Number of rows with label != object: 0\n"
     ]
    },
    {
     "name": "stderr",
     "output_type": "stream",
     "text": [
      "100%|██████████| 2761/2761 [00:31<00:00, 88.69it/s]\n"
     ]
    },
    {
     "name": "stdout",
     "output_type": "stream",
     "text": [
      "Topic: country, fact_triplets_new.shape: (2761, 3), df_question.shape: (1936, 5) Number of rows with label != object: 0\n"
     ]
    },
    {
     "name": "stderr",
     "output_type": "stream",
     "text": [
      "100%|██████████| 2592/2592 [00:27<00:00, 94.57it/s] \n"
     ]
    },
    {
     "name": "stdout",
     "output_type": "stream",
     "text": [
      "Topic: human, fact_triplets_new.shape: (2592, 3), df_question.shape: (1546, 5) Number of rows with label != object: 0\n"
     ]
    },
    {
     "name": "stderr",
     "output_type": "stream",
     "text": [
      "100%|██████████| 335/335 [00:03<00:00, 96.45it/s]\n"
     ]
    },
    {
     "name": "stdout",
     "output_type": "stream",
     "text": [
      "Topic: glacier, fact_triplets_new.shape: (335, 3), df_question.shape: (107, 5) Number of rows with label != object: 0\n",
      "folder_unfiltered: ../data/questions/unfiltered/mistral_7b_instruct_v0.3\n"
     ]
    },
    {
     "name": "stderr",
     "output_type": "stream",
     "text": [
      "100%|██████████| 202/202 [00:02<00:00, 89.12it/s]\n"
     ]
    },
    {
     "name": "stdout",
     "output_type": "stream",
     "text": [
      "Topic: recurring sporting event, fact_triplets_new.shape: (202, 3), df_question.shape: (115, 5) Number of rows with label != object: 0\n"
     ]
    },
    {
     "name": "stderr",
     "output_type": "stream",
     "text": [
      "100%|██████████| 523/523 [00:06<00:00, 81.28it/s]\n"
     ]
    },
    {
     "name": "stdout",
     "output_type": "stream",
     "text": [
      "Topic: forest, fact_triplets_new.shape: (523, 3), df_question.shape: (261, 5) Number of rows with label != object: 0\n"
     ]
    },
    {
     "name": "stderr",
     "output_type": "stream",
     "text": [
      "100%|██████████| 339/339 [00:03<00:00, 91.57it/s]\n"
     ]
    },
    {
     "name": "stdout",
     "output_type": "stream",
     "text": [
      "Topic: corporation, fact_triplets_new.shape: (339, 3), df_question.shape: (191, 5) Number of rows with label != object: 0\n"
     ]
    },
    {
     "name": "stderr",
     "output_type": "stream",
     "text": [
      "100%|██████████| 18513/18513 [03:11<00:00, 96.57it/s] \n"
     ]
    },
    {
     "name": "stdout",
     "output_type": "stream",
     "text": [
      "Topic: city, fact_triplets_new.shape: (18513, 3), df_question.shape: (6805, 5) Number of rows with label != object: 0\n"
     ]
    },
    {
     "name": "stderr",
     "output_type": "stream",
     "text": [
      "100%|██████████| 1633/1633 [00:18<00:00, 90.34it/s]\n"
     ]
    },
    {
     "name": "stdout",
     "output_type": "stream",
     "text": [
      "Topic: music genre, fact_triplets_new.shape: (1633, 3), df_question.shape: (300, 5) Number of rows with label != object: 0\n"
     ]
    },
    {
     "name": "stderr",
     "output_type": "stream",
     "text": [
      "100%|██████████| 2629/2629 [00:28<00:00, 93.30it/s]\n"
     ]
    },
    {
     "name": "stdout",
     "output_type": "stream",
     "text": [
      "Topic: song, fact_triplets_new.shape: (2629, 3), df_question.shape: (1935, 5) Number of rows with label != object: 0\n"
     ]
    },
    {
     "name": "stderr",
     "output_type": "stream",
     "text": [
      "100%|██████████| 423/423 [00:04<00:00, 88.85it/s]\n"
     ]
    },
    {
     "name": "stdout",
     "output_type": "stream",
     "text": [
      "Topic: programming language, fact_triplets_new.shape: (423, 3), df_question.shape: (311, 5) Number of rows with label != object: 0\n"
     ]
    },
    {
     "name": "stderr",
     "output_type": "stream",
     "text": [
      "100%|██████████| 2392/2392 [00:24<00:00, 98.76it/s] \n"
     ]
    },
    {
     "name": "stdout",
     "output_type": "stream",
     "text": [
      "Topic: human, fact_triplets_new.shape: (2392, 3), df_question.shape: (1313, 5) Number of rows with label != object: 0\n"
     ]
    },
    {
     "name": "stderr",
     "output_type": "stream",
     "text": [
      "100%|██████████| 359/359 [00:03<00:00, 93.29it/s]\n"
     ]
    },
    {
     "name": "stdout",
     "output_type": "stream",
     "text": [
      "Topic: anime, fact_triplets_new.shape: (359, 3), df_question.shape: (299, 5) Number of rows with label != object: 0\n"
     ]
    },
    {
     "name": "stderr",
     "output_type": "stream",
     "text": [
      "100%|██████████| 3184/3184 [00:35<00:00, 90.77it/s] \n"
     ]
    },
    {
     "name": "stdout",
     "output_type": "stream",
     "text": [
      "Topic: tourist attraction, fact_triplets_new.shape: (3184, 3), df_question.shape: (1832, 5) Number of rows with label != object: 0\n"
     ]
    },
    {
     "name": "stderr",
     "output_type": "stream",
     "text": [
      "100%|██████████| 597/597 [00:06<00:00, 87.29it/s]\n"
     ]
    },
    {
     "name": "stdout",
     "output_type": "stream",
     "text": [
      "Topic: industry, fact_triplets_new.shape: (597, 3), df_question.shape: (170, 5) Number of rows with label != object: 0\n"
     ]
    },
    {
     "name": "stderr",
     "output_type": "stream",
     "text": [
      "100%|██████████| 1788/1788 [00:19<00:00, 91.34it/s]\n"
     ]
    },
    {
     "name": "stdout",
     "output_type": "stream",
     "text": [
      "Topic: human, fact_triplets_new.shape: (1788, 3), df_question.shape: (1052, 5) Number of rows with label != object: 0\n"
     ]
    },
    {
     "name": "stderr",
     "output_type": "stream",
     "text": [
      "100%|██████████| 338/338 [00:03<00:00, 100.17it/s]\n"
     ]
    },
    {
     "name": "stdout",
     "output_type": "stream",
     "text": [
      "Topic: film festival, fact_triplets_new.shape: (338, 3), df_question.shape: (166, 5) Number of rows with label != object: 0\n"
     ]
    },
    {
     "name": "stderr",
     "output_type": "stream",
     "text": [
      "100%|██████████| 440/440 [00:04<00:00, 91.89it/s]\n"
     ]
    },
    {
     "name": "stdout",
     "output_type": "stream",
     "text": [
      "Topic: revolution, fact_triplets_new.shape: (440, 3), df_question.shape: (156, 5) Number of rows with label != object: 0\n"
     ]
    },
    {
     "name": "stderr",
     "output_type": "stream",
     "text": [
      "100%|██████████| 550/550 [00:06<00:00, 90.52it/s]\n"
     ]
    },
    {
     "name": "stdout",
     "output_type": "stream",
     "text": [
      "Topic: sculpture, fact_triplets_new.shape: (550, 3), df_question.shape: (377, 5) Number of rows with label != object: 0\n"
     ]
    },
    {
     "name": "stderr",
     "output_type": "stream",
     "text": [
      "100%|██████████| 830/830 [00:09<00:00, 85.33it/s]\n"
     ]
    },
    {
     "name": "stdout",
     "output_type": "stream",
     "text": [
      "Topic: disease, fact_triplets_new.shape: (830, 3), df_question.shape: (505, 5) Number of rows with label != object: 0\n"
     ]
    },
    {
     "name": "stderr",
     "output_type": "stream",
     "text": [
      "100%|██████████| 766/766 [00:08<00:00, 93.20it/s]\n"
     ]
    },
    {
     "name": "stdout",
     "output_type": "stream",
     "text": [
      "Topic: volcano, fact_triplets_new.shape: (766, 3), df_question.shape: (429, 5) Number of rows with label != object: 0\n"
     ]
    },
    {
     "name": "stderr",
     "output_type": "stream",
     "text": [
      "100%|██████████| 141/141 [00:01<00:00, 89.26it/s]\n"
     ]
    },
    {
     "name": "stdout",
     "output_type": "stream",
     "text": [
      "Topic: symptom, fact_triplets_new.shape: (141, 3), df_question.shape: (60, 5) Number of rows with label != object: 0\n"
     ]
    },
    {
     "name": "stderr",
     "output_type": "stream",
     "text": [
      "100%|██████████| 219/219 [00:02<00:00, 88.57it/s]\n"
     ]
    },
    {
     "name": "stdout",
     "output_type": "stream",
     "text": [
      "Topic: database, fact_triplets_new.shape: (219, 3), df_question.shape: (138, 5) Number of rows with label != object: 0\n"
     ]
    },
    {
     "name": "stderr",
     "output_type": "stream",
     "text": [
      "100%|██████████| 1417/1417 [00:14<00:00, 95.03it/s] \n"
     ]
    },
    {
     "name": "stdout",
     "output_type": "stream",
     "text": [
      "Topic: brand, fact_triplets_new.shape: (1417, 3), df_question.shape: (787, 5) Number of rows with label != object: 0\n"
     ]
    },
    {
     "name": "stderr",
     "output_type": "stream",
     "text": [
      "100%|██████████| 4339/4339 [00:48<00:00, 89.37it/s]\n"
     ]
    },
    {
     "name": "stdout",
     "output_type": "stream",
     "text": [
      "Topic: human, fact_triplets_new.shape: (4339, 3), df_question.shape: (2687, 5) Number of rows with label != object: 0\n"
     ]
    },
    {
     "name": "stderr",
     "output_type": "stream",
     "text": [
      "100%|██████████| 822/822 [00:09<00:00, 90.81it/s]\n"
     ]
    },
    {
     "name": "stdout",
     "output_type": "stream",
     "text": [
      "Topic: software, fact_triplets_new.shape: (822, 3), df_question.shape: (633, 5) Number of rows with label != object: 0\n"
     ]
    },
    {
     "name": "stderr",
     "output_type": "stream",
     "text": [
      "100%|██████████| 236/236 [00:02<00:00, 85.07it/s]\n"
     ]
    },
    {
     "name": "stdout",
     "output_type": "stream",
     "text": [
      "Topic: medication, fact_triplets_new.shape: (236, 3), df_question.shape: (53, 5) Number of rows with label != object: 0\n"
     ]
    },
    {
     "name": "stderr",
     "output_type": "stream",
     "text": [
      "100%|██████████| 2761/2761 [00:31<00:00, 88.74it/s]\n"
     ]
    },
    {
     "name": "stdout",
     "output_type": "stream",
     "text": [
      "Topic: country, fact_triplets_new.shape: (2761, 3), df_question.shape: (1936, 5) Number of rows with label != object: 0\n"
     ]
    },
    {
     "name": "stderr",
     "output_type": "stream",
     "text": [
      "100%|██████████| 2592/2592 [00:27<00:00, 95.20it/s] \n"
     ]
    },
    {
     "name": "stdout",
     "output_type": "stream",
     "text": [
      "Topic: human, fact_triplets_new.shape: (2592, 3), df_question.shape: (1546, 5) Number of rows with label != object: 0\n"
     ]
    },
    {
     "name": "stderr",
     "output_type": "stream",
     "text": [
      "100%|██████████| 335/335 [00:03<00:00, 96.37it/s]"
     ]
    },
    {
     "name": "stdout",
     "output_type": "stream",
     "text": [
      "Topic: glacier, fact_triplets_new.shape: (335, 3), df_question.shape: (107, 5) Number of rows with label != object: 0\n"
     ]
    },
    {
     "name": "stderr",
     "output_type": "stream",
     "text": [
      "\n"
     ]
    }
   ],
   "source": [
    "folder_unfiltered = f\"../data/questions/unfiltered/{model_id_format}\"\n",
    "print(f'folder_unfiltered: {folder_unfiltered}')\n",
    "for filename in os.listdir('../data/triplet'):\n",
    "    if filename.endswith('.csv'):\n",
    "        fact_triplets_new = pd.read_csv(f'../data/triplet/{filename}')\n",
    "        # if os.path.exists(f\"{folder_unfiltered}/{filename}\"):\n",
    "        #     continue\n",
    "        if not os.path.exists(folder_unfiltered):\n",
    "            os.makedirs(folder_unfiltered)\n",
    "        \n",
    "        with open(os.path.join(\"../data/topic\", filename.replace('.csv', '.json')), 'r', encoding='utf-8') as topics_file:\n",
    "            topics = topics_file.readlines()\n",
    "        topic = json.loads(topics[0])\n",
    "        first_pair = next(iter(topic.items()))\n",
    "        # print(f'filename: {filename}, topic: {first_pair[1]}')\n",
    "\n",
    "        question_ls = []\n",
    "        for i in tqdm(fact_triplets_new.index):\n",
    "            subject, relation, object = fact_triplets_new.loc[i, 'subjectLabel'], fact_triplets_new.loc[i, 'relation'], fact_triplets_new.loc[i, 'objectLabel']\n",
    "            question = generate_question(subject, relation, object, first_pair[1])\n",
    "            if question:\n",
    "                question_ls.append(question)\n",
    "        df = pd.DataFrame(question_ls)\n",
    "        df.rename(columns={'question': 'question_rule_based'}, inplace=True)\n",
    "        df.to_csv(f\"{folder_unfiltered}/{filename}\", index=False) # [['subject', 'relation', 'object', 'question']]\n",
    "        print(f\"Topic: {first_pair[1]}, fact_triplets_new.shape: {fact_triplets_new.shape}, df_question.shape: {df.shape}\", end=' ')\n",
    "        print(f\"Number of rows with label != object: {df[df.object != df.label].shape[0]}\")"
   ]
  },
  {
   "cell_type": "code",
   "execution_count": null,
   "metadata": {},
   "outputs": [],
   "source": [
    "for folder_unfiltered in [f\"../data/questions/unfiltered/{model_id_format}\" for model_id_format in model_id_format_ls[:3]]:\n",
    "    for filename in os.listdir(folder_unfiltered):\n",
    "        df = pd.read_csv(f\"{folder_unfiltered}/{filename}\")\n",
    "        df_dup = df[df.duplicated(['subject', 'relation'], keep=False)]\n",
    "        if len(df_dup) > 0:  # check duplicate (subject, relation) pairs\n",
    "            print(f\"In {filename}, there are {len(df_dup)} questions with duplicate (subject, relation) pairs:\")\n",
    "\n",
    "        df_dup = df[df.duplicated(['relation', 'object'], keep=False)]\n",
    "        if len(df_dup) > 0:  # check duplicate (relation, object) pairs\n",
    "            print(f\"In {filename}, there are {len(df_dup)} questions with duplicate (relation, object) pairs:\")\n",
    "            \n",
    "        if len(df[df['subject'] == df['object']]) > 0:  # Check if subject == object\n",
    "            print(f\"In {filename}, there are {len(df[df['subject'] == df['object']])} questions where subject == object\")\n",
    "            df = df[df['subject'] != df['object']]\n",
    "\n",
    "        if df[df.isna().any(axis=1)].shape[0] > 0:\n",
    "            print(f\"In {filename}, there are {df[df.isna().any(axis=1)].shape[0]} NaN values.\")\n",
    "            df = df.dropna(subset=[f'output_{model_id_format}'])"
   ]
  }
 ],
 "metadata": {
  "kernelspec": {
   "display_name": "edit",
   "language": "python",
   "name": "python3"
  },
  "language_info": {
   "codemirror_mode": {
    "name": "ipython",
    "version": 3
   },
   "file_extension": ".py",
   "mimetype": "text/x-python",
   "name": "python",
   "nbconvert_exporter": "python",
   "pygments_lexer": "ipython3",
   "version": "3.9.18"
  }
 },
 "nbformat": 4,
 "nbformat_minor": 2
}
